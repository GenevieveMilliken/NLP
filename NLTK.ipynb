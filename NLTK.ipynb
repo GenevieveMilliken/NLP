{
  "nbformat": 4,
  "nbformat_minor": 0,
  "metadata": {
    "colab": {
      "provenance": [],
      "authorship_tag": "ABX9TyOCYCYf7zV5sX9Anq53pVrk",
      "include_colab_link": true
    },
    "kernelspec": {
      "name": "python3",
      "display_name": "Python 3"
    },
    "language_info": {
      "name": "python"
    }
  },
  "cells": [
    {
      "cell_type": "markdown",
      "metadata": {
        "id": "view-in-github",
        "colab_type": "text"
      },
      "source": [
        "<a href=\"https://colab.research.google.com/github/GenevieveMilliken/NLP/blob/main/NLTK.ipynb\" target=\"_parent\"><img src=\"https://colab.research.google.com/assets/colab-badge.svg\" alt=\"Open In Colab\"/></a>"
      ]
    },
    {
      "cell_type": "markdown",
      "source": [
        "# Natural Language Toolkit (NLTK)\n",
        "\n",
        "The Natural Language Toolkit, or more commonly NLTK, is a Python suite of libraries used for natural language processing (NLP) on English-language texts.\n",
        "\n",
        "NLTK is intended to support research and teaching in NLP or closely related areas, including empirical linguistics, cognitive science, artificial intelligence, information retrieval, and machine learning.\n",
        "\n",
        "NLTK supports classification, tokenization, stemming, tagging, parsing, and semantic reasoning functionalities."
      ],
      "metadata": {
        "id": "r3QbLNjBX_fx"
      }
    },
    {
      "cell_type": "markdown",
      "source": [
        "# Getting Started"
      ],
      "metadata": {
        "id": "2sFg6Rh37jTj"
      }
    },
    {
      "cell_type": "code",
      "execution_count": null,
      "metadata": {
        "id": "uRIh4OKXVkKO"
      },
      "outputs": [],
      "source": [
        "!pip install nltk"
      ]
    },
    {
      "cell_type": "code",
      "source": [
        "import nltk"
      ],
      "metadata": {
        "id": "uEHiHJ1rVzfh"
      },
      "execution_count": 1,
      "outputs": []
    },
    {
      "cell_type": "code",
      "source": [
        "nltk.download('book')"
      ],
      "metadata": {
        "id": "w4QhhFdkV2p9"
      },
      "execution_count": null,
      "outputs": []
    },
    {
      "cell_type": "code",
      "source": [
        "from nltk.book import *"
      ],
      "metadata": {
        "colab": {
          "base_uri": "https://localhost:8080/"
        },
        "id": "lDW9kt8-Whp9",
        "outputId": "26094e3b-18ec-4f6a-9015-111b0b347068"
      },
      "execution_count": 3,
      "outputs": [
        {
          "output_type": "stream",
          "name": "stdout",
          "text": [
            "*** Introductory Examples for the NLTK Book ***\n",
            "Loading text1, ..., text9 and sent1, ..., sent9\n",
            "Type the name of the text or sentence to view it.\n",
            "Type: 'texts()' or 'sents()' to list the materials.\n",
            "text1: Moby Dick by Herman Melville 1851\n",
            "text2: Sense and Sensibility by Jane Austen 1811\n",
            "text3: The Book of Genesis\n",
            "text4: Inaugural Address Corpus\n",
            "text5: Chat Corpus\n",
            "text6: Monty Python and the Holy Grail\n",
            "text7: Wall Street Journal\n",
            "text8: Personals Corpus\n",
            "text9: The Man Who Was Thursday by G . K . Chesterton 1908\n"
          ]
        }
      ]
    },
    {
      "cell_type": "markdown",
      "source": [
        "## Searching Texts"
      ],
      "metadata": {
        "id": "CwAMGeZF7u5a"
      }
    },
    {
      "cell_type": "markdown",
      "source": [
        "NLTK provides the function `concordance()` to locate and print series of phrases that contain the keyword. However, the function only print the output. "
      ],
      "metadata": {
        "id": "109PAXmiaKSj"
      }
    },
    {
      "cell_type": "code",
      "source": [
        "text1.concordance(\"monstrous\")"
      ],
      "metadata": {
        "id": "FQDcDvXDXNCW"
      },
      "execution_count": null,
      "outputs": []
    },
    {
      "cell_type": "code",
      "source": [
        "text1.concordance(\"flood\")"
      ],
      "metadata": {
        "id": "unQ6g0HfXfwu"
      },
      "execution_count": null,
      "outputs": []
    },
    {
      "cell_type": "code",
      "source": [
        "text1.concordance(\"Whale\")"
      ],
      "metadata": {
        "id": "K81QoqWMXqft"
      },
      "execution_count": null,
      "outputs": []
    },
    {
      "cell_type": "code",
      "source": [
        "text2.concordance(\"affection\")"
      ],
      "metadata": {
        "id": "be6-dznsZzVR"
      },
      "execution_count": null,
      "outputs": []
    },
    {
      "cell_type": "markdown",
      "source": [
        "A concordance permits us to see words in context. For example, we saw that *monstrous* occurred in contexts such as *...most monstrous size* and *...monstrous clubs and spears*. What other words appear in a similar range of contexts? We can find out by appending the term similar to the name of the text in `question`, then inserting the relevant word in parentheses:"
      ],
      "metadata": {
        "id": "VtzZt9cMaHpo"
      }
    },
    {
      "cell_type": "code",
      "source": [
        "text1.similar(\"monstrous\")"
      ],
      "metadata": {
        "id": "vjcfB3HGa3vu"
      },
      "execution_count": null,
      "outputs": []
    },
    {
      "cell_type": "code",
      "source": [
        "text2.similar(\"monstrous\")"
      ],
      "metadata": {
        "id": "hn7fDk5HZ5HA"
      },
      "execution_count": null,
      "outputs": []
    },
    {
      "cell_type": "code",
      "source": [
        "text2.common_contexts([\"monstrous\", \"remarkably\"])"
      ],
      "metadata": {
        "id": "q4kXRJNWcLC0"
      },
      "execution_count": null,
      "outputs": []
    },
    {
      "cell_type": "markdown",
      "source": [
        "It is one thing to automatically detect that a particular word occurs in a text, and to display some words that appear in the same context. However, we can also determine the location of a word in the text: how many words from the beginning it appears. This positional information can be displayed using a dispersion plot."
      ],
      "metadata": {
        "id": "WpLn0PbI4Nmg"
      }
    },
    {
      "cell_type": "code",
      "source": [
        "#Dispersion plot for Inaugural Address Corpus \n",
        "text4.dispersion_plot([\"citizens\", \"democracy\", \"freedom\", \"duties\", \"America\"])"
      ],
      "metadata": {
        "colab": {
          "base_uri": "https://localhost:8080/",
          "height": 295
        },
        "id": "9AXGU_6n4BTI",
        "outputId": "1c0354c0-6195-4a84-dc63-62a9fbf86fa0"
      },
      "execution_count": 11,
      "outputs": [
        {
          "output_type": "display_data",
          "data": {
            "text/plain": [
              "<Figure size 432x288 with 1 Axes>"
            ],
            "image/png": "[encoded data removed]"
          },
          "metadata": {
            "needs_background": "light"
          }
        }
      ]
    },
    {
      "cell_type": "markdown",
      "source": [
        "Now, just for fun, let's try generating some random text in the various styles we have just seen."
      ],
      "metadata": {
        "id": "WjbSxRkH7Wex"
      }
    },
    {
      "cell_type": "code",
      "source": [
        "text2.generate()"
      ],
      "metadata": {
        "colab": {
          "base_uri": "https://localhost:8080/",
          "height": 266
        },
        "id": "BeYj3-Jr4sGY",
        "outputId": "24ba8eca-ea5e-42f1-94a0-9083ca21be19"
      },
      "execution_count": 16,
      "outputs": [
        {
          "output_type": "stream",
          "name": "stderr",
          "text": [
            "Building ngram index...\n"
          ]
        },
        {
          "output_type": "stream",
          "name": "stdout",
          "text": [
            "left London this morning he came to Barton . \" , she could live\n",
            "without one another , and in her rambles . be materially benefited in\n",
            "one another ' s affliction could be nothing . Her insipidity was\n",
            "invariable , as he can leave her , my dear Miss Dashwood , who saw\n",
            "THAT solicitude in his breed of horses and dogs , and from that time\n",
            "so unwilling to join their ' s -- can it be otherwise , her mother ,\n",
            "laughing heartily ; \" I do not like .\" those most concerned . always\n",
            "glad to\n"
          ]
        },
        {
          "output_type": "execute_result",
          "data": {
            "text/plain": [
              "'left London this morning he came to Barton . \" , she could live\\nwithout one another , and in her rambles . be materially benefited in\\none another \\' s affliction could be nothing . Her insipidity was\\ninvariable , as he can leave her , my dear Miss Dashwood , who saw\\nTHAT solicitude in his breed of horses and dogs , and from that time\\nso unwilling to join their \\' s -- can it be otherwise , her mother ,\\nlaughing heartily ; \" I do not like .\" those most concerned . always\\nglad to'"
            ],
            "application/vnd.google.colaboratory.intrinsic+json": {
              "type": "string"
            }
          },
          "metadata": {},
          "execution_count": 16
        }
      ]
    },
    {
      "cell_type": "markdown",
      "source": [
        "## Counting Vocabulary\n",
        "The most obvious fact about texts that emerges from the preceding examples is that they differ in the vocabulary they use. In this section we will see how to use the computer to count the words in a text in a variety of useful ways"
      ],
      "metadata": {
        "id": "ZVAn2X487aa6"
      }
    },
    {
      "cell_type": "markdown",
      "source": [
        "Let's begin by finding out the length of a text from start to finish, in terms of the words and punctuation symbols that appear. We use the term len to get the length of something, which we'll apply here to the book of Genesis:"
      ],
      "metadata": {
        "id": "OWc6-ArI8Zyb"
      }
    },
    {
      "cell_type": "code",
      "source": [
        "len(text3)\n",
        "print(f\"The word count of {text3.name} is {len(text3)}.\")"
      ],
      "metadata": {
        "colab": {
          "base_uri": "https://localhost:8080/"
        },
        "id": "oNPaudMV79-k",
        "outputId": "fb9bf068-4cab-45e9-8de1-50bfbc6c721c"
      },
      "execution_count": 53,
      "outputs": [
        {
          "output_type": "stream",
          "name": "stdout",
          "text": [
            "The word count of The Book of Genesis is 44764.\n"
          ]
        }
      ]
    },
    {
      "cell_type": "markdown",
      "source": [
        "So Genesis has 44,764 words and punctuation symbols, or \"tokens.\" A token is the technical name for a sequence of characters."
      ],
      "metadata": {
        "id": "7aCO77dcAnO8"
      }
    },
    {
      "cell_type": "markdown",
      "source": [
        "When we count the number of tokens in a text, say, the phrase *to be or not to be*, we are counting occurrences of these sequences. Thus, in our example phrase there are two occurrences of *to*, two of *be*, and one each of *or* and *not*. But there are only four distinct vocabulary items in this phrase. **How many distinct words does the book of Genesis contain?**\n",
        "\n",
        "The vocabulary of a text is just the [set](https://www.w3schools.com/python/python_sets.asp) of tokens that it uses, since in a set, all duplicates are collapsed together. In Python we can obtain the vocabulary items of text3 with the command: set(text3). "
      ],
      "metadata": {
        "id": "omjxvI6jBcpA"
      }
    },
    {
      "cell_type": "code",
      "source": [
        "sorted(set(text3))"
      ],
      "metadata": {
        "id": "nxoV7nUhAmJs"
      },
      "execution_count": null,
      "outputs": []
    },
    {
      "cell_type": "code",
      "source": [
        "len(set(text3))\n",
        "\n",
        "print(f\"{text3.name} has {len(set(text3))} distinct words or \\\"item types\\\".\")"
      ],
      "metadata": {
        "colab": {
          "base_uri": "https://localhost:8080/"
        },
        "id": "H45MG0YfAU_B",
        "outputId": "2da18df9-24f7-4bb5-b830-ee3a64b012c8"
      },
      "execution_count": 66,
      "outputs": [
        {
          "output_type": "stream",
          "name": "stdout",
          "text": [
            "The Book of Genesis has 2789 distinct words or \"item types\".\n"
          ]
        }
      ]
    },
    {
      "cell_type": "markdown",
      "source": [
        "A word type is the form or spelling of the word independently of its specific occurrences in a text — that is, the word considered as a unique item of vocabulary. Our count of 2,789 items will include punctuation symbols, so we will generally call these unique items types instead of word types.\n",
        "\n",
        "Now, let's calculate a measure of the lexical richness of the text."
      ],
      "metadata": {
        "id": "vkvVLMNUD94K"
      }
    },
    {
      "cell_type": "code",
      "source": [
        "len(set(text3)) / len(text3)"
      ],
      "metadata": {
        "colab": {
          "base_uri": "https://localhost:8080/"
        },
        "id": "36NZW5vqFSix",
        "outputId": "4ce2a025-ecd3-4dda-8e43-43e80e1c45e4"
      },
      "execution_count": 71,
      "outputs": [
        {
          "output_type": "execute_result",
          "data": {
            "text/plain": [
              "0.06230453042623537"
            ]
          },
          "metadata": {},
          "execution_count": 71
        }
      ]
    },
    {
      "cell_type": "markdown",
      "source": [
        "The next example shows us that the number of distinct words is just 6% of the total number of words, or equivalently that each word is used 16 times on average"
      ],
      "metadata": {
        "id": "g-6h6nojFxJ6"
      }
    },
    {
      "cell_type": "code",
      "source": [
        " 100 / 6"
      ],
      "metadata": {
        "colab": {
          "base_uri": "https://localhost:8080/"
        },
        "id": "_nC2ihYkFveN",
        "outputId": "adfb17b8-1f93-4d16-a444-4e207a16917a"
      },
      "execution_count": 88,
      "outputs": [
        {
          "output_type": "execute_result",
          "data": {
            "text/plain": [
              "16.666666666666668"
            ]
          },
          "metadata": {},
          "execution_count": 88
        }
      ]
    },
    {
      "cell_type": "markdown",
      "source": [
        "Next, let's focus on particular words. We can count how often a word occurs in a text, and compute what percentage of the text is taken up by a specific word:"
      ],
      "metadata": {
        "id": "xycVpYXwGLSq"
      }
    },
    {
      "cell_type": "code",
      "source": [
        "text1.count(\"boat\")\n",
        "\n",
        "100 * text1.count(\"boat\") / len(text1)"
      ],
      "metadata": {
        "colab": {
          "base_uri": "https://localhost:8080/"
        },
        "id": "Aq1MZEOdGEaU",
        "outputId": "66ac7a35-3769-4c8f-8762-9f5c63a32866"
      },
      "execution_count": 84,
      "outputs": [
        {
          "output_type": "execute_result",
          "data": {
            "text/plain": [
              "0.12652452467036526"
            ]
          },
          "metadata": {},
          "execution_count": 84
        }
      ]
    },
    {
      "cell_type": "code",
      "source": [
        "# if might become tedious to do this for every word, so we can define a function \n",
        "\n",
        "def lexical_diversity(text):\n",
        "  return len(set(text)) / len(text)\n",
        "\n",
        "def percentage(count, total):\n",
        "  return 100 * count / total\n"
      ],
      "metadata": {
        "id": "cQZOShkIHY3K"
      },
      "execution_count": 85,
      "outputs": []
    },
    {
      "cell_type": "code",
      "source": [
        "lexical_diversity(text3)"
      ],
      "metadata": {
        "colab": {
          "base_uri": "https://localhost:8080/"
        },
        "id": "Y8nYS0qpIH85",
        "outputId": "e186088e-5e76-4692-d786-ac708b271afd"
      },
      "execution_count": 86,
      "outputs": [
        {
          "output_type": "execute_result",
          "data": {
            "text/plain": [
              "0.06230453042623537"
            ]
          },
          "metadata": {},
          "execution_count": 86
        }
      ]
    },
    {
      "cell_type": "code",
      "source": [
        "percentage(text1.count(\"boat\") , len(text1))"
      ],
      "metadata": {
        "colab": {
          "base_uri": "https://localhost:8080/"
        },
        "id": "aPCg95SNIUVX",
        "outputId": "3fae8bf4-370d-4799-ba19-2daa37c9eab6"
      },
      "execution_count": 87,
      "outputs": [
        {
          "output_type": "execute_result",
          "data": {
            "text/plain": [
              "0.12652452467036526"
            ]
          },
          "metadata": {},
          "execution_count": 87
        }
      ]
    },
    {
      "cell_type": "markdown",
      "source": [
        "#  A Closer Look at Python: Texts as Lists of Words"
      ],
      "metadata": {
        "id": "kOF2CleEJEuR"
      }
    },
    {
      "cell_type": "markdown",
      "source": [
        "NLTK has converted the first sentence of each of the books into a list. "
      ],
      "metadata": {
        "id": "vMHDWw86KSmw"
      }
    },
    {
      "cell_type": "code",
      "source": [
        "sent1"
      ],
      "metadata": {
        "id": "ODHJf3cYKRer"
      },
      "execution_count": null,
      "outputs": []
    },
    {
      "cell_type": "code",
      "source": [
        "sent2"
      ],
      "metadata": {
        "id": "_qObRWhYKAgH"
      },
      "execution_count": null,
      "outputs": []
    },
    {
      "cell_type": "code",
      "source": [
        "sent3"
      ],
      "metadata": {
        "id": "xlfSksE1Ke7s"
      },
      "execution_count": null,
      "outputs": []
    },
    {
      "cell_type": "markdown",
      "source": [
        "As we have seen, a text in Python is a list of words, represented using a combination of brackets and quotes. Just as with an ordinary page of text, we can count up the total number of words in text1 with len(text1), and count the occurrences in a text of a particular word — say, 'heaven' — using text1.count('heaven')."
      ],
      "metadata": {
        "id": "Dsa7Zjs5LfDK"
      }
    },
    {
      "cell_type": "code",
      "source": [
        "len(text1)\n",
        "\n",
        "text1.count(\"Heaven\")"
      ],
      "metadata": {
        "colab": {
          "base_uri": "https://localhost:8080/"
        },
        "id": "gxxuFXwRLsDI",
        "outputId": "7a809605-9171-4e61-c0ac-5bf1b7935a93"
      },
      "execution_count": 96,
      "outputs": [
        {
          "output_type": "execute_result",
          "data": {
            "text/plain": [
              "11"
            ]
          },
          "metadata": {},
          "execution_count": 96
        }
      ]
    },
    {
      "cell_type": "code",
      "source": [
        "# using index to get the 598th word \n",
        "\n",
        "text1[599]"
      ],
      "metadata": {
        "colab": {
          "base_uri": "https://localhost:8080/",
          "height": 36
        },
        "id": "HQ2FW6UyL-Yy",
        "outputId": "1ebbeb1e-0569-4b5b-fce5-bac148f3e3d9"
      },
      "execution_count": 98,
      "outputs": [
        {
          "output_type": "execute_result",
          "data": {
            "text/plain": [
              "'who'"
            ],
            "application/vnd.google.colaboratory.intrinsic+json": {
              "type": "string"
            }
          },
          "metadata": {},
          "execution_count": 98
        }
      ]
    },
    {
      "cell_type": "code",
      "source": [
        "# index where the word first occurs\n",
        "text1.index(\"who\")"
      ],
      "metadata": {
        "colab": {
          "base_uri": "https://localhost:8080/"
        },
        "id": "ajodVsq8MKC5",
        "outputId": "37fd7fb2-e8ce-4aba-d212-3eecfb05bdaf"
      },
      "execution_count": 100,
      "outputs": [
        {
          "output_type": "execute_result",
          "data": {
            "text/plain": [
              "599"
            ]
          },
          "metadata": {},
          "execution_count": 100
        }
      ]
    },
    {
      "cell_type": "code",
      "source": [],
      "metadata": {
        "id": "ZrYluLXMMf4h"
      },
      "execution_count": null,
      "outputs": []
    }
  ]
}