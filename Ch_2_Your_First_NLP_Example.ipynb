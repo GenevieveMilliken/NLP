{
  "nbformat": 4,
  "nbformat_minor": 0,
  "metadata": {
    "colab": {
      "provenance": [],
      "authorship_tag": "ABX9TyOxWHPPsOrhfUN0cn//PzEr"
    },
    "kernelspec": {
      "name": "python3",
      "display_name": "Python 3"
    },
    "language_info": {
      "name": "python"
    }
  },
  "cells": [
    {
      "cell_type": "markdown",
      "source": [
        "# Notes from Ch. 2 Your first NLP example, Getting Started with Natural Language Processing \n",
        "## by Ekaterina Kochmar (2022)\n",
        "### https://livebook.manning.com/book/getting-started-with-natural-language-processing/chapter-2/v-10/"
      ],
      "metadata": {
        "id": "6NH1UO60aSFD"
      }
    },
    {
      "cell_type": "markdown",
      "source": [
        "### 2.1 Introducing NLP in practice: spam filtering"
      ],
      "metadata": {
        "id": "g9HAsCiAa-K0"
      }
    },
    {
      "cell_type": "markdown",
      "source": [
        "### Classification\n",
        "**Classification** refers to the process of identifying which category or class among the set of categories (classes) an observation belongs to based on its properties. In machine learning terms, such properties are called features and the class names are called class labels. If you classify observations into two classes, you are dealing with binary classification; tasks with more than two classes are examples of multi-class classification.\n",
        "\n",
        "**binary classifications** allows us to organize items into to groups (e.g., motorized vs not) </br> \n",
        "**multi-class catagorization**: two-wheeled unmotorized vehicles, two-wheeled motorized vehicles, three-wheeled unmotorized vehicles, and so on \n"
      ],
      "metadata": {
        "id": "C00TX1OtKHS_"
      }
    },
    {
      "cell_type": "markdown",
      "source": [
        "We can have computers make classifications. For examples, we can create a function that prints out a warning that water is hot based on a simple threshold of 45&deg;C (113&deg;F). "
      ],
      "metadata": {
        "id": "KZoKnY_WOBlj"
      }
    },
    {
      "cell_type": "code",
      "source": [
        "def print_warning(temperature):\n",
        "    if temperature>=45:\n",
        "        print (\"Caution: Hot water!\")\n",
        "    else:\n",
        "        print (\"You may use water as usual\")\n",
        "print_warning(46)\n",
        " "
      ],
      "metadata": {
        "id": "Zjf2c7cLa9en",
        "colab": {
          "base_uri": "https://localhost:8080/"
        },
        "outputId": "0be7d59f-76b2-4c3b-c149-ba58d8d6270f"
      },
      "execution_count": 1,
      "outputs": [
        {
          "output_type": "stream",
          "name": "stdout",
          "text": [
            "Caution: Hot water!\n"
          ]
        }
      ]
    }
  ]
}